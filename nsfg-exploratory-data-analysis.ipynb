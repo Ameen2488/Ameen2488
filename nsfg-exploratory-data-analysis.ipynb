{
 "cells": [
  {
   "cell_type": "markdown",
   "id": "a52bc5bc",
   "metadata": {
    "_cell_guid": "b1076dfc-b9ad-4769-8c92-a6c4dae69d19",
    "_uuid": "8f2839f25d086af736a60e9eeb907d3b93b6e0e5",
    "execution": {
     "iopub.execute_input": "2021-12-14T16:22:08.022574Z",
     "iopub.status.busy": "2021-12-14T16:22:08.022311Z",
     "iopub.status.idle": "2021-12-14T16:22:08.06327Z",
     "shell.execute_reply": "2021-12-14T16:22:08.062369Z",
     "shell.execute_reply.started": "2021-12-14T16:22:08.022547Z"
    },
    "papermill": {
     "duration": 0.019015,
     "end_time": "2022-08-12T15:42:21.522382",
     "exception": false,
     "start_time": "2022-08-12T15:42:21.503367",
     "status": "completed"
    },
    "tags": []
   },
   "source": [
    "**Importing the required packages\n",
    "Importing and reading the data:**\n",
    "NSFG (National Survey of Family Growth) data is in form of (HDF5)"
   ]
  },
  {
   "cell_type": "code",
   "execution_count": 1,
   "id": "f508a925",
   "metadata": {
    "execution": {
     "iopub.execute_input": "2022-08-12T15:42:21.564477Z",
     "iopub.status.busy": "2022-08-12T15:42:21.562615Z",
     "iopub.status.idle": "2022-08-12T15:42:21.790277Z",
     "shell.execute_reply": "2022-08-12T15:42:21.790818Z",
     "shell.execute_reply.started": "2022-08-12T14:46:37.558323Z"
    },
    "papermill": {
     "duration": 0.251051,
     "end_time": "2022-08-12T15:42:21.791133",
     "exception": false,
     "start_time": "2022-08-12T15:42:21.540082",
     "status": "completed"
    },
    "tags": []
   },
   "outputs": [
    {
     "data": {
      "text/html": [
       "<div>\n",
       "<style scoped>\n",
       "    .dataframe tbody tr th:only-of-type {\n",
       "        vertical-align: middle;\n",
       "    }\n",
       "\n",
       "    .dataframe tbody tr th {\n",
       "        vertical-align: top;\n",
       "    }\n",
       "\n",
       "    .dataframe thead th {\n",
       "        text-align: right;\n",
       "    }\n",
       "</style>\n",
       "<table border=\"1\" class=\"dataframe\">\n",
       "  <thead>\n",
       "    <tr style=\"text-align: right;\">\n",
       "      <th></th>\n",
       "      <th>caseid</th>\n",
       "      <th>outcome</th>\n",
       "      <th>birthwgt_lb1</th>\n",
       "      <th>birthwgt_oz1</th>\n",
       "      <th>prglngth</th>\n",
       "      <th>nbrnaliv</th>\n",
       "      <th>agecon</th>\n",
       "      <th>agepreg</th>\n",
       "      <th>hpagelb</th>\n",
       "      <th>wgt2013_2015</th>\n",
       "    </tr>\n",
       "  </thead>\n",
       "  <tbody>\n",
       "    <tr>\n",
       "      <th>0</th>\n",
       "      <td>60418</td>\n",
       "      <td>1</td>\n",
       "      <td>5.0</td>\n",
       "      <td>4.0</td>\n",
       "      <td>40</td>\n",
       "      <td>1.0</td>\n",
       "      <td>2000</td>\n",
       "      <td>2075.0</td>\n",
       "      <td>22.0</td>\n",
       "      <td>3554.964843</td>\n",
       "    </tr>\n",
       "    <tr>\n",
       "      <th>1</th>\n",
       "      <td>60418</td>\n",
       "      <td>1</td>\n",
       "      <td>4.0</td>\n",
       "      <td>12.0</td>\n",
       "      <td>36</td>\n",
       "      <td>1.0</td>\n",
       "      <td>2291</td>\n",
       "      <td>2358.0</td>\n",
       "      <td>25.0</td>\n",
       "      <td>3554.964843</td>\n",
       "    </tr>\n",
       "    <tr>\n",
       "      <th>2</th>\n",
       "      <td>60418</td>\n",
       "      <td>1</td>\n",
       "      <td>5.0</td>\n",
       "      <td>4.0</td>\n",
       "      <td>36</td>\n",
       "      <td>1.0</td>\n",
       "      <td>3241</td>\n",
       "      <td>3308.0</td>\n",
       "      <td>52.0</td>\n",
       "      <td>3554.964843</td>\n",
       "    </tr>\n",
       "    <tr>\n",
       "      <th>3</th>\n",
       "      <td>60419</td>\n",
       "      <td>6</td>\n",
       "      <td>NaN</td>\n",
       "      <td>NaN</td>\n",
       "      <td>33</td>\n",
       "      <td>NaN</td>\n",
       "      <td>3650</td>\n",
       "      <td>NaN</td>\n",
       "      <td>NaN</td>\n",
       "      <td>2484.535358</td>\n",
       "    </tr>\n",
       "    <tr>\n",
       "      <th>4</th>\n",
       "      <td>60420</td>\n",
       "      <td>1</td>\n",
       "      <td>8.0</td>\n",
       "      <td>13.0</td>\n",
       "      <td>41</td>\n",
       "      <td>1.0</td>\n",
       "      <td>2191</td>\n",
       "      <td>2266.0</td>\n",
       "      <td>24.0</td>\n",
       "      <td>2903.782914</td>\n",
       "    </tr>\n",
       "  </tbody>\n",
       "</table>\n",
       "</div>"
      ],
      "text/plain": [
       "   caseid  outcome  birthwgt_lb1  birthwgt_oz1  prglngth  nbrnaliv  agecon  \\\n",
       "0   60418        1           5.0           4.0        40       1.0    2000   \n",
       "1   60418        1           4.0          12.0        36       1.0    2291   \n",
       "2   60418        1           5.0           4.0        36       1.0    3241   \n",
       "3   60419        6           NaN           NaN        33       NaN    3650   \n",
       "4   60420        1           8.0          13.0        41       1.0    2191   \n",
       "\n",
       "   agepreg  hpagelb  wgt2013_2015  \n",
       "0   2075.0     22.0   3554.964843  \n",
       "1   2358.0     25.0   3554.964843  \n",
       "2   3308.0     52.0   3554.964843  \n",
       "3      NaN      NaN   2484.535358  \n",
       "4   2266.0     24.0   2903.782914  "
      ]
     },
     "execution_count": 1,
     "metadata": {},
     "output_type": "execute_result"
    }
   ],
   "source": [
    "import pandas as pd\n",
    "import numpy as np\n",
    "import matplotlib.pyplot as plt\n",
    "nsfg = pd.read_hdf(\"../input/national-survey-of-family-growthnsfg/nsfg.hdf5\", \"nsfg\")\n",
    "nsfg.head()"
   ]
  },
  {
   "cell_type": "code",
   "execution_count": 2,
   "id": "54c72aa1",
   "metadata": {
    "execution": {
     "iopub.execute_input": "2022-08-12T15:42:21.834080Z",
     "iopub.status.busy": "2022-08-12T15:42:21.832999Z",
     "iopub.status.idle": "2022-08-12T15:42:21.850520Z",
     "shell.execute_reply": "2022-08-12T15:42:21.850998Z",
     "shell.execute_reply.started": "2022-08-12T15:24:13.845299Z"
    },
    "papermill": {
     "duration": 0.042554,
     "end_time": "2022-08-12T15:42:21.851230",
     "exception": false,
     "start_time": "2022-08-12T15:42:21.808676",
     "status": "completed"
    },
    "tags": []
   },
   "outputs": [
    {
     "name": "stdout",
     "output_type": "stream",
     "text": [
      "(9358, 10)\n",
      "0     4.0\n",
      "1    12.0\n",
      "2     4.0\n",
      "3     NaN\n",
      "4    13.0\n",
      "Name: birthwgt_oz1, dtype: float64\n"
     ]
    },
    {
     "data": {
      "text/plain": [
       "<bound method DataFrame.sort_values of       caseid  outcome  birthwgt_lb1  birthwgt_oz1  prglngth  nbrnaliv  agecon  \\\n",
       "0      60418        1           5.0           4.0        40       1.0    2000   \n",
       "1      60418        1           4.0          12.0        36       1.0    2291   \n",
       "2      60418        1           5.0           4.0        36       1.0    3241   \n",
       "4      60420        1           8.0          13.0        41       1.0    2191   \n",
       "6      60423        1           5.0           0.0        35       1.0    2366   \n",
       "...      ...      ...           ...           ...       ...       ...     ...   \n",
       "9353   70615        1           4.0          11.0        35       1.0    1758   \n",
       "9354   70616        1           8.0           7.0        42       1.0    1741   \n",
       "9355   70616        1           7.0           6.0        36       1.0    2091   \n",
       "9356   70619        1           8.0           3.0        41       1.0    3450   \n",
       "9357   70619        1           8.0           5.0        40       1.0    3683   \n",
       "\n",
       "      agepreg  hpagelb  wgt2013_2015  \n",
       "0      2075.0     22.0   3554.964843  \n",
       "1      2358.0     25.0   3554.964843  \n",
       "2      3308.0     52.0   3554.964843  \n",
       "4      2266.0     24.0   2903.782914  \n",
       "6      2433.0     23.0   2738.498331  \n",
       "...       ...      ...           ...  \n",
       "9353   1825.0     22.0   8117.554461  \n",
       "9354   1816.0     18.0   6842.240477  \n",
       "9355   2158.0     23.0   6842.240477  \n",
       "9356   3525.0     31.0   3856.253532  \n",
       "9357   3758.0     34.0   3856.253532  \n",
       "\n",
       "[6489 rows x 10 columns]>"
      ]
     },
     "execution_count": 2,
     "metadata": {},
     "output_type": "execute_result"
    }
   ],
   "source": [
    "# Data Frames and Series:\n",
    "\n",
    "\n",
    "# Display the number of rows and columns\n",
    "print(nsfg.shape)\n",
    "\n",
    "# Display the names of the columns\n",
    "nsfg.columns\n",
    "\n",
    "# Select column birthwgt_oz1: ounces\n",
    "ounces = nsfg['birthwgt_oz1']\n",
    "\n",
    "# Print the first 5 elements of ounces\n",
    "print(ounces.head())\n",
    "\n",
    "# How many pregnancies in this dataset ended with a live birth?\n",
    "nsfg[nsfg[\"outcome\"] == 1].sort_values"
   ]
  },
  {
   "cell_type": "markdown",
   "id": "d58809e5",
   "metadata": {
    "papermill": {
     "duration": 0.017309,
     "end_time": "2022-08-12T15:42:21.885815",
     "exception": false,
     "start_time": "2022-08-12T15:42:21.868506",
     "status": "completed"
    },
    "tags": []
   },
   "source": []
  },
  {
   "cell_type": "markdown",
   "id": "f00cf089",
   "metadata": {
    "papermill": {
     "duration": 0.017037,
     "end_time": "2022-08-12T15:42:21.920654",
     "exception": false,
     "start_time": "2022-08-12T15:42:21.903617",
     "status": "completed"
    },
    "tags": []
   },
   "source": [
    "## Clean a Variable\n",
    "### In the NSFG dataset, the variable *'nbrnaliv'* records the number of babies born alive at the end of a pregnancy.\n",
    "\n",
    "### If you use .value_counts() to view the responses, you'll see that the value **8** appears once, and if you consult the codebook, you'll see that this value indicates that the respondent refused to answer the question."
   ]
  },
  {
   "cell_type": "code",
   "execution_count": 3,
   "id": "1e393081",
   "metadata": {
    "execution": {
     "iopub.execute_input": "2022-08-12T15:42:21.959435Z",
     "iopub.status.busy": "2022-08-12T15:42:21.958432Z",
     "iopub.status.idle": "2022-08-12T15:42:21.968342Z",
     "shell.execute_reply": "2022-08-12T15:42:21.969077Z",
     "shell.execute_reply.started": "2022-08-12T15:41:07.841529Z"
    },
    "papermill": {
     "duration": 0.03104,
     "end_time": "2022-08-12T15:42:21.969331",
     "exception": false,
     "start_time": "2022-08-12T15:42:21.938291",
     "status": "completed"
    },
    "tags": []
   },
   "outputs": [
    {
     "name": "stdout",
     "output_type": "stream",
     "text": [
      "1.0    6379\n",
      "2.0     100\n",
      "3.0       5\n",
      "Name: nbrnaliv, dtype: int64\n"
     ]
    }
   ],
   "source": [
    "# Replace the value 8 with NaN\n",
    "nsfg['nbrnaliv'].replace(8, np.nan, inplace = True)\n",
    "\n",
    "# Print the values and their frequencies\n",
    "print(nsfg['nbrnaliv'].value_counts())"
   ]
  },
  {
   "cell_type": "markdown",
   "id": "c773e5ab",
   "metadata": {
    "papermill": {
     "duration": 0.017781,
     "end_time": "2022-08-12T15:42:22.005573",
     "exception": false,
     "start_time": "2022-08-12T15:42:21.987792",
     "status": "completed"
    },
    "tags": []
   },
   "source": [
    "**Checking the data for errors and correcting them**"
   ]
  },
  {
   "cell_type": "code",
   "execution_count": 4,
   "id": "820789a3",
   "metadata": {
    "execution": {
     "iopub.execute_input": "2022-08-12T15:42:22.046768Z",
     "iopub.status.busy": "2022-08-12T15:42:22.046025Z",
     "iopub.status.idle": "2022-08-12T15:42:22.053223Z",
     "shell.execute_reply": "2022-08-12T15:42:22.053774Z",
     "shell.execute_reply.started": "2021-12-15T01:58:18.120749Z"
    },
    "papermill": {
     "duration": 0.03035,
     "end_time": "2022-08-12T15:42:22.053959",
     "exception": false,
     "start_time": "2022-08-12T15:42:22.023609",
     "status": "completed"
    },
    "tags": []
   },
   "outputs": [
    {
     "data": {
      "text/plain": [
       "1.0    6379\n",
       "2.0     100\n",
       "3.0       5\n",
       "Name: nbrnaliv, dtype: int64"
      ]
     },
     "execution_count": 4,
     "metadata": {},
     "output_type": "execute_result"
    }
   ],
   "source": [
    "# The number 8 in (nbrnaliv) column (number of babies born alive at the end of pregnancy) indicates that the repondent refused to answer\n",
    "nsfg[\"nbrnaliv\"].value_counts()\n",
    "# We must replace it, the other values (1, 2, 3) indicate the number of babies"
   ]
  },
  {
   "cell_type": "code",
   "execution_count": 5,
   "id": "f99f6a66",
   "metadata": {
    "execution": {
     "iopub.execute_input": "2022-08-12T15:42:22.096743Z",
     "iopub.status.busy": "2022-08-12T15:42:22.094243Z",
     "iopub.status.idle": "2022-08-12T15:42:22.103020Z",
     "shell.execute_reply": "2022-08-12T15:42:22.103637Z",
     "shell.execute_reply.started": "2021-12-15T01:58:18.133522Z"
    },
    "papermill": {
     "duration": 0.03193,
     "end_time": "2022-08-12T15:42:22.103820",
     "exception": false,
     "start_time": "2022-08-12T15:42:22.071890",
     "status": "completed"
    },
    "tags": []
   },
   "outputs": [
    {
     "data": {
      "text/plain": [
       "1.0    6379\n",
       "2.0     100\n",
       "3.0       5\n",
       "Name: nbrnaliv, dtype: int64"
      ]
     },
     "execution_count": 5,
     "metadata": {},
     "output_type": "execute_result"
    }
   ],
   "source": [
    "# Replacing 8 with NaN\n",
    "nsfg[\"nbrnaliv\"].replace(8, np.nan, inplace = True)\n",
    "nsfg[\"nbrnaliv\"].value_counts()"
   ]
  },
  {
   "cell_type": "code",
   "execution_count": 6,
   "id": "afd4f1f6",
   "metadata": {
    "execution": {
     "iopub.execute_input": "2022-08-12T15:42:22.146399Z",
     "iopub.status.busy": "2022-08-12T15:42:22.145657Z",
     "iopub.status.idle": "2022-08-12T15:42:22.156883Z",
     "shell.execute_reply": "2022-08-12T15:42:22.156174Z",
     "shell.execute_reply.started": "2021-12-15T01:58:18.150718Z"
    },
    "papermill": {
     "duration": 0.033975,
     "end_time": "2022-08-12T15:42:22.157043",
     "exception": false,
     "start_time": "2022-08-12T15:42:22.123068",
     "status": "completed"
    },
    "tags": []
   },
   "outputs": [
    {
     "data": {
      "text/plain": [
       "0.0        6\n",
       "1.0       34\n",
       "2.0       47\n",
       "3.0       67\n",
       "4.0      196\n",
       "5.0      586\n",
       "6.0     1666\n",
       "7.0     2146\n",
       "8.0     1168\n",
       "9.0      363\n",
       "10.0      82\n",
       "11.0      17\n",
       "12.0       7\n",
       "13.0       2\n",
       "14.0       2\n",
       "17.0       1\n",
       "98.0       1\n",
       "99.0      94\n",
       "Name: birthwgt_lb1, dtype: int64"
      ]
     },
     "execution_count": 6,
     "metadata": {},
     "output_type": "execute_result"
    }
   ],
   "source": [
    "pounds = nsfg[\"birthwgt_lb1\"]\n",
    "pounds.value_counts().sort_index()\n",
    "# The most frequent values are 6-8 pounds, 98.0 and 99.0 indicate missing data"
   ]
  },
  {
   "cell_type": "code",
   "execution_count": 7,
   "id": "8548fea4",
   "metadata": {
    "execution": {
     "iopub.execute_input": "2022-08-12T15:42:22.201786Z",
     "iopub.status.busy": "2022-08-12T15:42:22.200978Z",
     "iopub.status.idle": "2022-08-12T15:42:22.204558Z",
     "shell.execute_reply": "2022-08-12T15:42:22.203987Z",
     "shell.execute_reply.started": "2021-12-15T01:58:18.164755Z"
    },
    "papermill": {
     "duration": 0.028701,
     "end_time": "2022-08-12T15:42:22.204717",
     "exception": false,
     "start_time": "2022-08-12T15:42:22.176016",
     "status": "completed"
    },
    "tags": []
   },
   "outputs": [],
   "source": [
    "# Then we replace the 98.0 and 99.0 pounds with NaN to represent missing data\n",
    "pounds = pounds.replace([98, 99], np.nan)"
   ]
  },
  {
   "cell_type": "code",
   "execution_count": 8,
   "id": "5565b82f",
   "metadata": {
    "execution": {
     "iopub.execute_input": "2022-08-12T15:42:22.248853Z",
     "iopub.status.busy": "2022-08-12T15:42:22.248066Z",
     "iopub.status.idle": "2022-08-12T15:42:22.254490Z",
     "shell.execute_reply": "2022-08-12T15:42:22.255052Z",
     "shell.execute_reply.started": "2021-12-15T01:58:18.178645Z"
    },
    "papermill": {
     "duration": 0.031916,
     "end_time": "2022-08-12T15:42:22.255257",
     "exception": false,
     "start_time": "2022-08-12T15:42:22.223341",
     "status": "completed"
    },
    "tags": []
   },
   "outputs": [
    {
     "data": {
      "text/plain": [
       "0.0     757\n",
       "1.0     297\n",
       "2.0     429\n",
       "3.0     393\n",
       "4.0     386\n",
       "5.0     407\n",
       "6.0     543\n",
       "7.0     346\n",
       "8.0     518\n",
       "9.0     377\n",
       "10.0    295\n",
       "11.0    418\n",
       "12.0    388\n",
       "13.0    275\n",
       "14.0    258\n",
       "15.0    268\n",
       "98.0      1\n",
       "99.0     35\n",
       "Name: birthwgt_oz1, dtype: int64"
      ]
     },
     "execution_count": 8,
     "metadata": {},
     "output_type": "execute_result"
    }
   ],
   "source": [
    "# Tha same thing for ounces\n",
    "ounces = nsfg[\"birthwgt_oz1\"]\n",
    "ounces.value_counts().sort_index()"
   ]
  },
  {
   "cell_type": "code",
   "execution_count": 9,
   "id": "5c276b97",
   "metadata": {
    "execution": {
     "iopub.execute_input": "2022-08-12T15:42:22.299428Z",
     "iopub.status.busy": "2022-08-12T15:42:22.298699Z",
     "iopub.status.idle": "2022-08-12T15:42:22.302715Z",
     "shell.execute_reply": "2022-08-12T15:42:22.302118Z",
     "shell.execute_reply.started": "2021-12-15T01:58:18.19473Z"
    },
    "papermill": {
     "duration": 0.027932,
     "end_time": "2022-08-12T15:42:22.302868",
     "exception": false,
     "start_time": "2022-08-12T15:42:22.274936",
     "status": "completed"
    },
    "tags": []
   },
   "outputs": [],
   "source": [
    "ounces = ounces.replace([98, 99], np.nan)"
   ]
  },
  {
   "cell_type": "markdown",
   "id": "c080b8a9",
   "metadata": {
    "papermill": {
     "duration": 0.018385,
     "end_time": "2022-08-12T15:42:22.341289",
     "exception": false,
     "start_time": "2022-08-12T15:42:22.322904",
     "status": "completed"
    },
    "tags": []
   },
   "source": []
  },
  {
   "cell_type": "code",
   "execution_count": 10,
   "id": "545ac113",
   "metadata": {
    "execution": {
     "iopub.execute_input": "2022-08-12T15:42:22.384500Z",
     "iopub.status.busy": "2022-08-12T15:42:22.383642Z",
     "iopub.status.idle": "2022-08-12T15:42:22.391423Z",
     "shell.execute_reply": "2022-08-12T15:42:22.391977Z",
     "shell.execute_reply.started": "2021-12-15T01:58:18.201576Z"
    },
    "papermill": {
     "duration": 0.03213,
     "end_time": "2022-08-12T15:42:22.392184",
     "exception": false,
     "start_time": "2022-08-12T15:42:22.360054",
     "status": "completed"
    },
    "tags": []
   },
   "outputs": [
    {
     "data": {
      "text/plain": [
       "count    6355.000000\n",
       "mean        7.120978\n",
       "std         1.422236\n",
       "min         0.000000\n",
       "25%         6.375000\n",
       "50%         7.187500\n",
       "75%         8.000000\n",
       "max        17.937500\n",
       "dtype: float64"
      ]
     },
     "execution_count": 10,
     "metadata": {},
     "output_type": "execute_result"
    }
   ],
   "source": [
    "# Calculating the total birth weight\n",
    "# 1 pound = 16 ounces\n",
    "birth_weight = pounds + (ounces / 16)\n",
    "# Some statistics about the total birth weight\n",
    "birth_weight.describe()"
   ]
  },
  {
   "cell_type": "markdown",
   "id": "cc8bb8f7",
   "metadata": {
    "papermill": {
     "duration": 0.019026,
     "end_time": "2022-08-12T15:42:22.430929",
     "exception": false,
     "start_time": "2022-08-12T15:42:22.411903",
     "status": "completed"
    },
    "tags": []
   },
   "source": [
    "**Plotting the frequency of birth weights**"
   ]
  },
  {
   "cell_type": "code",
   "execution_count": 11,
   "id": "c0685e9d",
   "metadata": {
    "execution": {
     "iopub.execute_input": "2022-08-12T15:42:22.475762Z",
     "iopub.status.busy": "2022-08-12T15:42:22.474993Z",
     "iopub.status.idle": "2022-08-12T15:42:22.902279Z",
     "shell.execute_reply": "2022-08-12T15:42:22.901509Z",
     "shell.execute_reply.started": "2021-12-15T01:58:18.219897Z"
    },
    "papermill": {
     "duration": 0.452079,
     "end_time": "2022-08-12T15:42:22.902434",
     "exception": false,
     "start_time": "2022-08-12T15:42:22.450355",
     "status": "completed"
    },
    "tags": []
   },
   "outputs": [
    {
     "data": {
      "text/plain": [
       "<function matplotlib.pyplot.show(close=None, block=None)>"
      ]
     },
     "execution_count": 11,
     "metadata": {},
     "output_type": "execute_result"
    },
    {
     "data": {
      "image/png": "[encoded data removed]",
      "text/plain": [
       "<Figure size 432x288 with 1 Axes>"
      ]
     },
     "metadata": {
      "needs_background": "light"
     },
     "output_type": "display_data"
    }
   ],
   "source": [
    "plt.hist(birth_weight.dropna(), bins = 30)\n",
    "plt.xlabel(\"Birth Weight (lb)\")\n",
    "plt.ylabel(\"Number of births\")\n",
    "plt.title(\"The distribution of birth weights (lb)\")\n",
    "plt.show"
   ]
  },
  {
   "cell_type": "markdown",
   "id": "59e19cff",
   "metadata": {
    "papermill": {
     "duration": 0.019828,
     "end_time": "2022-08-12T15:42:22.943783",
     "exception": false,
     "start_time": "2022-08-12T15:42:22.923955",
     "status": "completed"
    },
    "tags": []
   },
   "source": []
  },
  {
   "cell_type": "code",
   "execution_count": 12,
   "id": "f469f264",
   "metadata": {
    "execution": {
     "iopub.execute_input": "2022-08-12T15:42:22.992521Z",
     "iopub.status.busy": "2022-08-12T15:42:22.991787Z",
     "iopub.status.idle": "2022-08-12T15:42:22.995833Z",
     "shell.execute_reply": "2022-08-12T15:42:22.996380Z",
     "shell.execute_reply.started": "2021-12-15T01:58:18.530877Z"
    },
    "papermill": {
     "duration": 0.032467,
     "end_time": "2022-08-12T15:42:22.996576",
     "exception": false,
     "start_time": "2022-08-12T15:42:22.964109",
     "status": "completed"
    },
    "tags": []
   },
   "outputs": [
    {
     "name": "stdout",
     "output_type": "stream",
     "text": [
      "The number of preterm babies: 3742\n",
      "The number of fullterm babies: 5616\n"
     ]
    }
   ],
   "source": [
    "# We can use the column (prglngth) to determine if the baby is preterm (prglngth < 37) or fullterm\n",
    "preterm = nsfg[\"prglngth\"] < 37 # True if it is preterm\n",
    "fullterm = ~preterm\n",
    "# The number of preterm babies\n",
    "print(\"The number of preterm babies:\", preterm.sum())\n",
    "print(\"The number of fullterm babies:\", fullterm.sum())"
   ]
  },
  {
   "cell_type": "code",
   "execution_count": 13,
   "id": "ad85eeef",
   "metadata": {
    "execution": {
     "iopub.execute_input": "2022-08-12T15:42:23.045904Z",
     "iopub.status.busy": "2022-08-12T15:42:23.045051Z",
     "iopub.status.idle": "2022-08-12T15:42:23.052338Z",
     "shell.execute_reply": "2022-08-12T15:42:23.051739Z",
     "shell.execute_reply.started": "2021-12-15T01:58:18.541117Z"
    },
    "papermill": {
     "duration": 0.03477,
     "end_time": "2022-08-12T15:42:23.052495",
     "exception": false,
     "start_time": "2022-08-12T15:42:23.017725",
     "status": "completed"
    },
    "tags": []
   },
   "outputs": [
    {
     "name": "stdout",
     "output_type": "stream",
     "text": [
      "Mean of the weights of preterm babies: 5.577598314606742\n"
     ]
    }
   ],
   "source": [
    "# Showing the weights of preterm babies\n",
    "preterm_weight = birth_weight[preterm]\n",
    "# The mean of the weights of preterm babies\n",
    "print(\"Mean of the weights of preterm babies:\", preterm_weight.mean())"
   ]
  },
  {
   "cell_type": "code",
   "execution_count": 14,
   "id": "dc02b47e",
   "metadata": {
    "execution": {
     "iopub.execute_input": "2022-08-12T15:42:23.100086Z",
     "iopub.status.busy": "2022-08-12T15:42:23.099079Z",
     "iopub.status.idle": "2022-08-12T15:42:23.103837Z",
     "shell.execute_reply": "2022-08-12T15:42:23.104476Z",
     "shell.execute_reply.started": "2021-12-15T01:58:18.555293Z"
    },
    "papermill": {
     "duration": 0.031176,
     "end_time": "2022-08-12T15:42:23.104690",
     "exception": false,
     "start_time": "2022-08-12T15:42:23.073514",
     "status": "completed"
    },
    "tags": []
   },
   "outputs": [
    {
     "name": "stdout",
     "output_type": "stream",
     "text": [
      "Mean of the weights of fullterm babies: 7.372323879231473\n"
     ]
    }
   ],
   "source": [
    "# Showing the weights of preterm babies\n",
    "fullterm_weight = birth_weight[~preterm]\n",
    "# The mean of the weights of fullterm babies\n",
    "print(\"Mean of the weights of fullterm babies:\", fullterm_weight.mean())"
   ]
  },
  {
   "cell_type": "code",
   "execution_count": 15,
   "id": "77d7ffdb",
   "metadata": {
    "execution": {
     "iopub.execute_input": "2022-08-12T15:42:23.155142Z",
     "iopub.status.busy": "2022-08-12T15:42:23.154196Z",
     "iopub.status.idle": "2022-08-12T15:42:23.161315Z",
     "shell.execute_reply": "2022-08-12T15:42:23.160472Z",
     "shell.execute_reply.started": "2021-12-15T01:58:18.571099Z"
    },
    "papermill": {
     "duration": 0.03451,
     "end_time": "2022-08-12T15:42:23.161538",
     "exception": false,
     "start_time": "2022-08-12T15:42:23.127028",
     "status": "completed"
    },
    "tags": []
   },
   "outputs": [
    {
     "name": "stdout",
     "output_type": "stream",
     "text": [
      "Single full-term mean: 7.385643450184502\n",
      "Multiple full-term mean: 5.768055555555556\n"
     ]
    }
   ],
   "source": [
    "# Filter single births\n",
    "single = nsfg['nbrnaliv'] == 1\n",
    "\n",
    "# Compute birth weight for single full-term babies\n",
    "single_full_term_weight = birth_weight[single & ~preterm]\n",
    "print(\"Single full-term mean:\", single_full_term_weight.mean())\n",
    "\n",
    "# Compute birth weight for multiple full-term babies\n",
    "mult_full_term_weight = birth_weight[~single & ~preterm]\n",
    "print(\"Multiple full-term mean:\", mult_full_term_weight.mean())\n"
   ]
  },
  {
   "cell_type": "markdown",
   "id": "95c89b4a",
   "metadata": {
    "papermill": {
     "duration": 0.022428,
     "end_time": "2022-08-12T15:42:23.206564",
     "exception": false,
     "start_time": "2022-08-12T15:42:23.184136",
     "status": "completed"
    },
    "tags": []
   },
   "source": []
  }
 ],
 "metadata": {
  "kernelspec": {
   "display_name": "Python 3",
   "language": "python",
   "name": "python3"
  },
  "language_info": {
   "codemirror_mode": {
    "name": "ipython",
    "version": 3
   },
   "file_extension": ".py",
   "mimetype": "text/x-python",
   "name": "python",
   "nbconvert_exporter": "python",
   "pygments_lexer": "ipython3",
   "version": "3.7.12"
  },
  "papermill": {
   "default_parameters": {},
   "duration": 12.697852,
   "end_time": "2022-08-12T15:42:23.938291",
   "environment_variables": {},
   "exception": null,
   "input_path": "__notebook__.ipynb",
   "output_path": "__notebook__.ipynb",
   "parameters": {},
   "start_time": "2022-08-12T15:42:11.240439",
   "version": "2.3.3"
  }
 },
 "nbformat": 4,
 "nbformat_minor": 5
}
