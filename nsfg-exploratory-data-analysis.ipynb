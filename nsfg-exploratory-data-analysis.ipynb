{
 "cells": [
  {
   "cell_type": "markdown",
   "id": "fa069421",
   "metadata": {
    "_cell_guid": "b1076dfc-b9ad-4769-8c92-a6c4dae69d19",
    "_uuid": "8f2839f25d086af736a60e9eeb907d3b93b6e0e5",
    "execution": {
     "iopub.execute_input": "2021-12-14T16:22:08.022574Z",
     "iopub.status.busy": "2021-12-14T16:22:08.022311Z",
     "iopub.status.idle": "2021-12-14T16:22:08.06327Z",
     "shell.execute_reply": "2021-12-14T16:22:08.062369Z",
     "shell.execute_reply.started": "2021-12-14T16:22:08.022547Z"
    },
    "papermill": {
     "duration": 0.013352,
     "end_time": "2022-08-12T14:54:05.787763",
     "exception": false,
     "start_time": "2022-08-12T14:54:05.774411",
     "status": "completed"
    },
    "tags": []
   },
   "source": [
    "**Importing the required packages\n",
    "Importing and reading the data:**\n",
    "NSFG (National Survey of Family Growth) data is in form of (HDF5)"
   ]
  },
  {
   "cell_type": "code",
   "execution_count": 1,
   "id": "c2ed3308",
   "metadata": {
    "execution": {
     "iopub.execute_input": "2022-08-12T14:54:05.825808Z",
     "iopub.status.busy": "2022-08-12T14:54:05.825183Z",
     "iopub.status.idle": "2022-08-12T14:54:06.045350Z",
     "shell.execute_reply": "2022-08-12T14:54:06.045740Z",
     "shell.execute_reply.started": "2022-08-12T14:46:37.558323Z"
    },
    "papermill": {
     "duration": 0.243671,
     "end_time": "2022-08-12T14:54:06.045955",
     "exception": false,
     "start_time": "2022-08-12T14:54:05.802284",
     "status": "completed"
    },
    "tags": []
   },
   "outputs": [
    {
     "data": {
      "text/html": [
       "<div>\n",
       "<style scoped>\n",
       "    .dataframe tbody tr th:only-of-type {\n",
       "        vertical-align: middle;\n",
       "    }\n",
       "\n",
       "    .dataframe tbody tr th {\n",
       "        vertical-align: top;\n",
       "    }\n",
       "\n",
       "    .dataframe thead th {\n",
       "        text-align: right;\n",
       "    }\n",
       "</style>\n",
       "<table border=\"1\" class=\"dataframe\">\n",
       "  <thead>\n",
       "    <tr style=\"text-align: right;\">\n",
       "      <th></th>\n",
       "      <th>caseid</th>\n",
       "      <th>outcome</th>\n",
       "      <th>birthwgt_lb1</th>\n",
       "      <th>birthwgt_oz1</th>\n",
       "      <th>prglngth</th>\n",
       "      <th>nbrnaliv</th>\n",
       "      <th>agecon</th>\n",
       "      <th>agepreg</th>\n",
       "      <th>hpagelb</th>\n",
       "      <th>wgt2013_2015</th>\n",
       "    </tr>\n",
       "  </thead>\n",
       "  <tbody>\n",
       "    <tr>\n",
       "      <th>0</th>\n",
       "      <td>60418</td>\n",
       "      <td>1</td>\n",
       "      <td>5.0</td>\n",
       "      <td>4.0</td>\n",
       "      <td>40</td>\n",
       "      <td>1.0</td>\n",
       "      <td>2000</td>\n",
       "      <td>2075.0</td>\n",
       "      <td>22.0</td>\n",
       "      <td>3554.964843</td>\n",
       "    </tr>\n",
       "    <tr>\n",
       "      <th>1</th>\n",
       "      <td>60418</td>\n",
       "      <td>1</td>\n",
       "      <td>4.0</td>\n",
       "      <td>12.0</td>\n",
       "      <td>36</td>\n",
       "      <td>1.0</td>\n",
       "      <td>2291</td>\n",
       "      <td>2358.0</td>\n",
       "      <td>25.0</td>\n",
       "      <td>3554.964843</td>\n",
       "    </tr>\n",
       "    <tr>\n",
       "      <th>2</th>\n",
       "      <td>60418</td>\n",
       "      <td>1</td>\n",
       "      <td>5.0</td>\n",
       "      <td>4.0</td>\n",
       "      <td>36</td>\n",
       "      <td>1.0</td>\n",
       "      <td>3241</td>\n",
       "      <td>3308.0</td>\n",
       "      <td>52.0</td>\n",
       "      <td>3554.964843</td>\n",
       "    </tr>\n",
       "    <tr>\n",
       "      <th>3</th>\n",
       "      <td>60419</td>\n",
       "      <td>6</td>\n",
       "      <td>NaN</td>\n",
       "      <td>NaN</td>\n",
       "      <td>33</td>\n",
       "      <td>NaN</td>\n",
       "      <td>3650</td>\n",
       "      <td>NaN</td>\n",
       "      <td>NaN</td>\n",
       "      <td>2484.535358</td>\n",
       "    </tr>\n",
       "    <tr>\n",
       "      <th>4</th>\n",
       "      <td>60420</td>\n",
       "      <td>1</td>\n",
       "      <td>8.0</td>\n",
       "      <td>13.0</td>\n",
       "      <td>41</td>\n",
       "      <td>1.0</td>\n",
       "      <td>2191</td>\n",
       "      <td>2266.0</td>\n",
       "      <td>24.0</td>\n",
       "      <td>2903.782914</td>\n",
       "    </tr>\n",
       "  </tbody>\n",
       "</table>\n",
       "</div>"
      ],
      "text/plain": [
       "   caseid  outcome  birthwgt_lb1  birthwgt_oz1  prglngth  nbrnaliv  agecon  \\\n",
       "0   60418        1           5.0           4.0        40       1.0    2000   \n",
       "1   60418        1           4.0          12.0        36       1.0    2291   \n",
       "2   60418        1           5.0           4.0        36       1.0    3241   \n",
       "3   60419        6           NaN           NaN        33       NaN    3650   \n",
       "4   60420        1           8.0          13.0        41       1.0    2191   \n",
       "\n",
       "   agepreg  hpagelb  wgt2013_2015  \n",
       "0   2075.0     22.0   3554.964843  \n",
       "1   2358.0     25.0   3554.964843  \n",
       "2   3308.0     52.0   3554.964843  \n",
       "3      NaN      NaN   2484.535358  \n",
       "4   2266.0     24.0   2903.782914  "
      ]
     },
     "execution_count": 1,
     "metadata": {},
     "output_type": "execute_result"
    }
   ],
   "source": [
    "import pandas as pd\n",
    "import numpy as np\n",
    "import matplotlib.pyplot as plt\n",
    "nsfg = pd.read_hdf(\"../input/national-survey-of-family-growthnsfg/nsfg.hdf5\", \"nsfg\")\n",
    "nsfg.head()"
   ]
  },
  {
   "cell_type": "code",
   "execution_count": 2,
   "id": "1dbb1726",
   "metadata": {
    "execution": {
     "iopub.execute_input": "2022-08-12T14:54:06.074675Z",
     "iopub.status.busy": "2022-08-12T14:54:06.073893Z",
     "iopub.status.idle": "2022-08-12T14:54:06.076648Z",
     "shell.execute_reply": "2022-08-12T14:54:06.077026Z",
     "shell.execute_reply.started": "2022-08-12T14:51:14.842045Z"
    },
    "papermill": {
     "duration": 0.018864,
     "end_time": "2022-08-12T14:54:06.077150",
     "exception": false,
     "start_time": "2022-08-12T14:54:06.058286",
     "status": "completed"
    },
    "tags": []
   },
   "outputs": [
    {
     "name": "stdout",
     "output_type": "stream",
     "text": [
      "(9358, 10)\n"
     ]
    }
   ],
   "source": [
    "# Display the number of rows and columns\n",
    "print(nsfg.shape)"
   ]
  },
  {
   "cell_type": "markdown",
   "id": "7fb75ee6",
   "metadata": {
    "papermill": {
     "duration": 0.012391,
     "end_time": "2022-08-12T14:54:06.102249",
     "exception": false,
     "start_time": "2022-08-12T14:54:06.089858",
     "status": "completed"
    },
    "tags": []
   },
   "source": [
    "**Checking the data for errors and correcting them**"
   ]
  },
  {
   "cell_type": "code",
   "execution_count": 3,
   "id": "c83685ae",
   "metadata": {
    "execution": {
     "iopub.execute_input": "2022-08-12T14:54:06.130724Z",
     "iopub.status.busy": "2022-08-12T14:54:06.130059Z",
     "iopub.status.idle": "2022-08-12T14:54:06.140578Z",
     "shell.execute_reply": "2022-08-12T14:54:06.141032Z",
     "shell.execute_reply.started": "2021-12-15T01:58:18.120749Z"
    },
    "papermill": {
     "duration": 0.026132,
     "end_time": "2022-08-12T14:54:06.141180",
     "exception": false,
     "start_time": "2022-08-12T14:54:06.115048",
     "status": "completed"
    },
    "tags": []
   },
   "outputs": [
    {
     "data": {
      "text/plain": [
       "1.0    6379\n",
       "2.0     100\n",
       "3.0       5\n",
       "8.0       1\n",
       "Name: nbrnaliv, dtype: int64"
      ]
     },
     "execution_count": 3,
     "metadata": {},
     "output_type": "execute_result"
    }
   ],
   "source": [
    "# The number 8 in (nbrnaliv) column (number of babies born alive at the end of pregnancy) indicates that the repondent refused to answer\n",
    "nsfg[\"nbrnaliv\"].value_counts()\n",
    "# We must replace it, the other values (1, 2, 3) indicate the number of babies"
   ]
  },
  {
   "cell_type": "code",
   "execution_count": 4,
   "id": "c919983a",
   "metadata": {
    "execution": {
     "iopub.execute_input": "2022-08-12T14:54:06.169970Z",
     "iopub.status.busy": "2022-08-12T14:54:06.169242Z",
     "iopub.status.idle": "2022-08-12T14:54:06.176430Z",
     "shell.execute_reply": "2022-08-12T14:54:06.176871Z",
     "shell.execute_reply.started": "2021-12-15T01:58:18.133522Z"
    },
    "papermill": {
     "duration": 0.022895,
     "end_time": "2022-08-12T14:54:06.177023",
     "exception": false,
     "start_time": "2022-08-12T14:54:06.154128",
     "status": "completed"
    },
    "tags": []
   },
   "outputs": [
    {
     "data": {
      "text/plain": [
       "1.0    6379\n",
       "2.0     100\n",
       "3.0       5\n",
       "Name: nbrnaliv, dtype: int64"
      ]
     },
     "execution_count": 4,
     "metadata": {},
     "output_type": "execute_result"
    }
   ],
   "source": [
    "# Replacing 8 with NaN\n",
    "nsfg[\"nbrnaliv\"].replace(8, np.nan, inplace = True)\n",
    "nsfg[\"nbrnaliv\"].value_counts()"
   ]
  },
  {
   "cell_type": "code",
   "execution_count": 5,
   "id": "2fcf7f36",
   "metadata": {
    "execution": {
     "iopub.execute_input": "2022-08-12T14:54:06.221233Z",
     "iopub.status.busy": "2022-08-12T14:54:06.220662Z",
     "iopub.status.idle": "2022-08-12T14:54:06.223029Z",
     "shell.execute_reply": "2022-08-12T14:54:06.223674Z",
     "shell.execute_reply.started": "2021-12-15T01:58:18.150718Z"
    },
    "papermill": {
     "duration": 0.03288,
     "end_time": "2022-08-12T14:54:06.223840",
     "exception": false,
     "start_time": "2022-08-12T14:54:06.190960",
     "status": "completed"
    },
    "tags": []
   },
   "outputs": [
    {
     "data": {
      "text/plain": [
       "0.0        6\n",
       "1.0       34\n",
       "2.0       47\n",
       "3.0       67\n",
       "4.0      196\n",
       "5.0      586\n",
       "6.0     1666\n",
       "7.0     2146\n",
       "8.0     1168\n",
       "9.0      363\n",
       "10.0      82\n",
       "11.0      17\n",
       "12.0       7\n",
       "13.0       2\n",
       "14.0       2\n",
       "17.0       1\n",
       "98.0       1\n",
       "99.0      94\n",
       "Name: birthwgt_lb1, dtype: int64"
      ]
     },
     "execution_count": 5,
     "metadata": {},
     "output_type": "execute_result"
    }
   ],
   "source": [
    "pounds = nsfg[\"birthwgt_lb1\"]\n",
    "pounds.value_counts().sort_index()\n",
    "# The most frequent values are 6-8 pounds, 98.0 and 99.0 indicate missing data"
   ]
  },
  {
   "cell_type": "code",
   "execution_count": 6,
   "id": "a6c3c570",
   "metadata": {
    "execution": {
     "iopub.execute_input": "2022-08-12T14:54:06.262016Z",
     "iopub.status.busy": "2022-08-12T14:54:06.261395Z",
     "iopub.status.idle": "2022-08-12T14:54:06.264976Z",
     "shell.execute_reply": "2022-08-12T14:54:06.265420Z",
     "shell.execute_reply.started": "2021-12-15T01:58:18.164755Z"
    },
    "papermill": {
     "duration": 0.025426,
     "end_time": "2022-08-12T14:54:06.265571",
     "exception": false,
     "start_time": "2022-08-12T14:54:06.240145",
     "status": "completed"
    },
    "tags": []
   },
   "outputs": [],
   "source": [
    "# Then we replace the 98.0 and 99.0 pounds with NaN to represent missing data\n",
    "pounds = pounds.replace([98, 99], np.nan)"
   ]
  },
  {
   "cell_type": "code",
   "execution_count": 7,
   "id": "0b313bad",
   "metadata": {
    "execution": {
     "iopub.execute_input": "2022-08-12T14:54:06.298876Z",
     "iopub.status.busy": "2022-08-12T14:54:06.298392Z",
     "iopub.status.idle": "2022-08-12T14:54:06.305061Z",
     "shell.execute_reply": "2022-08-12T14:54:06.305532Z",
     "shell.execute_reply.started": "2021-12-15T01:58:18.178645Z"
    },
    "papermill": {
     "duration": 0.023027,
     "end_time": "2022-08-12T14:54:06.305661",
     "exception": false,
     "start_time": "2022-08-12T14:54:06.282634",
     "status": "completed"
    },
    "tags": []
   },
   "outputs": [
    {
     "data": {
      "text/plain": [
       "0.0     757\n",
       "1.0     297\n",
       "2.0     429\n",
       "3.0     393\n",
       "4.0     386\n",
       "5.0     407\n",
       "6.0     543\n",
       "7.0     346\n",
       "8.0     518\n",
       "9.0     377\n",
       "10.0    295\n",
       "11.0    418\n",
       "12.0    388\n",
       "13.0    275\n",
       "14.0    258\n",
       "15.0    268\n",
       "98.0      1\n",
       "99.0     35\n",
       "Name: birthwgt_oz1, dtype: int64"
      ]
     },
     "execution_count": 7,
     "metadata": {},
     "output_type": "execute_result"
    }
   ],
   "source": [
    "# Tha same thing for ounces\n",
    "ounces = nsfg[\"birthwgt_oz1\"]\n",
    "ounces.value_counts().sort_index()"
   ]
  },
  {
   "cell_type": "code",
   "execution_count": 8,
   "id": "9556cf7d",
   "metadata": {
    "execution": {
     "iopub.execute_input": "2022-08-12T14:54:06.334919Z",
     "iopub.status.busy": "2022-08-12T14:54:06.334408Z",
     "iopub.status.idle": "2022-08-12T14:54:06.337763Z",
     "shell.execute_reply": "2022-08-12T14:54:06.338226Z",
     "shell.execute_reply.started": "2021-12-15T01:58:18.19473Z"
    },
    "papermill": {
     "duration": 0.019441,
     "end_time": "2022-08-12T14:54:06.338378",
     "exception": false,
     "start_time": "2022-08-12T14:54:06.318937",
     "status": "completed"
    },
    "tags": []
   },
   "outputs": [],
   "source": [
    "ounces = ounces.replace([98, 99], np.nan)"
   ]
  },
  {
   "cell_type": "markdown",
   "id": "1e56e4cd",
   "metadata": {
    "papermill": {
     "duration": 0.013257,
     "end_time": "2022-08-12T14:54:06.365168",
     "exception": false,
     "start_time": "2022-08-12T14:54:06.351911",
     "status": "completed"
    },
    "tags": []
   },
   "source": []
  },
  {
   "cell_type": "code",
   "execution_count": 9,
   "id": "2f9fbda1",
   "metadata": {
    "execution": {
     "iopub.execute_input": "2022-08-12T14:54:06.397535Z",
     "iopub.status.busy": "2022-08-12T14:54:06.396964Z",
     "iopub.status.idle": "2022-08-12T14:54:06.402983Z",
     "shell.execute_reply": "2022-08-12T14:54:06.403483Z",
     "shell.execute_reply.started": "2021-12-15T01:58:18.201576Z"
    },
    "papermill": {
     "duration": 0.024952,
     "end_time": "2022-08-12T14:54:06.403622",
     "exception": false,
     "start_time": "2022-08-12T14:54:06.378670",
     "status": "completed"
    },
    "tags": []
   },
   "outputs": [
    {
     "data": {
      "text/plain": [
       "count    6355.000000\n",
       "mean        7.120978\n",
       "std         1.422236\n",
       "min         0.000000\n",
       "25%         6.375000\n",
       "50%         7.187500\n",
       "75%         8.000000\n",
       "max        17.937500\n",
       "dtype: float64"
      ]
     },
     "execution_count": 9,
     "metadata": {},
     "output_type": "execute_result"
    }
   ],
   "source": [
    "# Calculating the total birth weight\n",
    "# 1 pound = 16 ounces\n",
    "birth_weight = pounds + (ounces / 16)\n",
    "# Some statistics about the total birth weight\n",
    "birth_weight.describe()"
   ]
  },
  {
   "cell_type": "markdown",
   "id": "71f0a739",
   "metadata": {
    "papermill": {
     "duration": 0.013368,
     "end_time": "2022-08-12T14:54:06.430799",
     "exception": false,
     "start_time": "2022-08-12T14:54:06.417431",
     "status": "completed"
    },
    "tags": []
   },
   "source": [
    "**Plotting the frequency of birth weights**"
   ]
  },
  {
   "cell_type": "code",
   "execution_count": 10,
   "id": "44a6f5f8",
   "metadata": {
    "execution": {
     "iopub.execute_input": "2022-08-12T14:54:06.461399Z",
     "iopub.status.busy": "2022-08-12T14:54:06.460828Z",
     "iopub.status.idle": "2022-08-12T14:54:06.766058Z",
     "shell.execute_reply": "2022-08-12T14:54:06.765632Z",
     "shell.execute_reply.started": "2021-12-15T01:58:18.219897Z"
    },
    "papermill": {
     "duration": 0.321562,
     "end_time": "2022-08-12T14:54:06.766164",
     "exception": false,
     "start_time": "2022-08-12T14:54:06.444602",
     "status": "completed"
    },
    "tags": []
   },
   "outputs": [
    {
     "data": {
      "text/plain": [
       "<function matplotlib.pyplot.show(close=None, block=None)>"
      ]
     },
     "execution_count": 10,
     "metadata": {},
     "output_type": "execute_result"
    },
    {
     "data": {
      "image/png": "[encoded data removed]",
      "text/plain": [
       "<Figure size 432x288 with 1 Axes>"
      ]
     },
     "metadata": {
      "needs_background": "light"
     },
     "output_type": "display_data"
    }
   ],
   "source": [
    "plt.hist(birth_weight.dropna(), bins = 30)\n",
    "plt.xlabel(\"Birth Weight (lb)\")\n",
    "plt.ylabel(\"Number of births\")\n",
    "plt.title(\"The distribution of birth weights (lb)\")\n",
    "plt.show"
   ]
  },
  {
   "cell_type": "markdown",
   "id": "680d1df7",
   "metadata": {
    "papermill": {
     "duration": 0.014397,
     "end_time": "2022-08-12T14:54:06.795331",
     "exception": false,
     "start_time": "2022-08-12T14:54:06.780934",
     "status": "completed"
    },
    "tags": []
   },
   "source": []
  },
  {
   "cell_type": "code",
   "execution_count": 11,
   "id": "4743cd70",
   "metadata": {
    "execution": {
     "iopub.execute_input": "2022-08-12T14:54:06.830537Z",
     "iopub.status.busy": "2022-08-12T14:54:06.829787Z",
     "iopub.status.idle": "2022-08-12T14:54:06.834429Z",
     "shell.execute_reply": "2022-08-12T14:54:06.833893Z",
     "shell.execute_reply.started": "2021-12-15T01:58:18.530877Z"
    },
    "papermill": {
     "duration": 0.024379,
     "end_time": "2022-08-12T14:54:06.834561",
     "exception": false,
     "start_time": "2022-08-12T14:54:06.810182",
     "status": "completed"
    },
    "tags": []
   },
   "outputs": [
    {
     "name": "stdout",
     "output_type": "stream",
     "text": [
      "The number of preterm babies: 3742\n",
      "The number of fullterm babies: 5616\n"
     ]
    }
   ],
   "source": [
    "# We can use the column (prglngth) to determine if the baby is preterm (prglngth < 37) or fullterm\n",
    "preterm = nsfg[\"prglngth\"] < 37 # True if it is preterm\n",
    "fullterm = ~preterm\n",
    "# The number of preterm babies\n",
    "print(\"The number of preterm babies:\", preterm.sum())\n",
    "print(\"The number of fullterm babies:\", fullterm.sum())"
   ]
  },
  {
   "cell_type": "code",
   "execution_count": 12,
   "id": "623c5f85",
   "metadata": {
    "execution": {
     "iopub.execute_input": "2022-08-12T14:54:06.868895Z",
     "iopub.status.busy": "2022-08-12T14:54:06.868373Z",
     "iopub.status.idle": "2022-08-12T14:54:06.873421Z",
     "shell.execute_reply": "2022-08-12T14:54:06.873888Z",
     "shell.execute_reply.started": "2021-12-15T01:58:18.541117Z"
    },
    "papermill": {
     "duration": 0.02317,
     "end_time": "2022-08-12T14:54:06.874050",
     "exception": false,
     "start_time": "2022-08-12T14:54:06.850880",
     "status": "completed"
    },
    "tags": []
   },
   "outputs": [
    {
     "name": "stdout",
     "output_type": "stream",
     "text": [
      "Mean of the weights of preterm babies: 5.577598314606742\n"
     ]
    }
   ],
   "source": [
    "# Showing the weights of preterm babies\n",
    "preterm_weight = birth_weight[preterm]\n",
    "# The mean of the weights of preterm babies\n",
    "print(\"Mean of the weights of preterm babies:\", preterm_weight.mean())"
   ]
  },
  {
   "cell_type": "code",
   "execution_count": 13,
   "id": "084b1361",
   "metadata": {
    "execution": {
     "iopub.execute_input": "2022-08-12T14:54:06.911525Z",
     "iopub.status.busy": "2022-08-12T14:54:06.910769Z",
     "iopub.status.idle": "2022-08-12T14:54:06.916067Z",
     "shell.execute_reply": "2022-08-12T14:54:06.916475Z",
     "shell.execute_reply.started": "2021-12-15T01:58:18.555293Z"
    },
    "papermill": {
     "duration": 0.024863,
     "end_time": "2022-08-12T14:54:06.916609",
     "exception": false,
     "start_time": "2022-08-12T14:54:06.891746",
     "status": "completed"
    },
    "tags": []
   },
   "outputs": [
    {
     "name": "stdout",
     "output_type": "stream",
     "text": [
      "Mean of the weights of fullterm babies: 7.372323879231473\n"
     ]
    }
   ],
   "source": [
    "# Showing the weights of preterm babies\n",
    "fullterm_weight = birth_weight[~preterm]\n",
    "# The mean of the weights of fullterm babies\n",
    "print(\"Mean of the weights of fullterm babies:\", fullterm_weight.mean())"
   ]
  },
  {
   "cell_type": "code",
   "execution_count": 14,
   "id": "da83334a",
   "metadata": {
    "execution": {
     "iopub.execute_input": "2022-08-12T14:54:06.950067Z",
     "iopub.status.busy": "2022-08-12T14:54:06.949579Z",
     "iopub.status.idle": "2022-08-12T14:54:06.956706Z",
     "shell.execute_reply": "2022-08-12T14:54:06.957439Z",
     "shell.execute_reply.started": "2021-12-15T01:58:18.571099Z"
    },
    "papermill": {
     "duration": 0.025523,
     "end_time": "2022-08-12T14:54:06.957645",
     "exception": false,
     "start_time": "2022-08-12T14:54:06.932122",
     "status": "completed"
    },
    "tags": []
   },
   "outputs": [
    {
     "name": "stdout",
     "output_type": "stream",
     "text": [
      "Single full-term mean: 7.385643450184502\n",
      "Multiple full-term mean: 5.768055555555556\n"
     ]
    }
   ],
   "source": [
    "# Filter single births\n",
    "single = nsfg['nbrnaliv'] == 1\n",
    "\n",
    "# Compute birth weight for single full-term babies\n",
    "single_full_term_weight = birth_weight[single & ~preterm]\n",
    "print(\"Single full-term mean:\", single_full_term_weight.mean())\n",
    "\n",
    "# Compute birth weight for multiple full-term babies\n",
    "mult_full_term_weight = birth_weight[~single & ~preterm]\n",
    "print(\"Multiple full-term mean:\", mult_full_term_weight.mean())\n"
   ]
  },
  {
   "cell_type": "markdown",
   "id": "ffce7c4a",
   "metadata": {
    "papermill": {
     "duration": 0.015569,
     "end_time": "2022-08-12T14:54:06.990086",
     "exception": false,
     "start_time": "2022-08-12T14:54:06.974517",
     "status": "completed"
    },
    "tags": []
   },
   "source": []
  }
 ],
 "metadata": {
  "kernelspec": {
   "display_name": "Python 3",
   "language": "python",
   "name": "python3"
  },
  "language_info": {
   "codemirror_mode": {
    "name": "ipython",
    "version": 3
   },
   "file_extension": ".py",
   "mimetype": "text/x-python",
   "name": "python",
   "nbconvert_exporter": "python",
   "pygments_lexer": "ipython3",
   "version": "3.7.12"
  },
  "papermill": {
   "default_parameters": {},
   "duration": 10.099269,
   "end_time": "2022-08-12T14:54:07.615431",
   "environment_variables": {},
   "exception": null,
   "input_path": "__notebook__.ipynb",
   "output_path": "__notebook__.ipynb",
   "parameters": {},
   "start_time": "2022-08-12T14:53:57.516162",
   "version": "2.3.3"
  }
 },
 "nbformat": 4,
 "nbformat_minor": 5
}
